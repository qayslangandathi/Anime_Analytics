{
 "cells": [
  {
   "cell_type": "markdown",
   "metadata": {},
   "source": [
    "# A/B Testing Case Study for a Video Streaming Company"
   ]
  },
  {
   "cell_type": "markdown",
   "metadata": {},
   "source": [
    "In this Jupyter Notebook I will conduct an A/B test for a hypothetical video streaming company who is testing new artworks designs for shows in their catalogue. I will detail the steps that I make to produce an in depth guide to A/B testing. I will be using fake data that I have generated myself, but will try to make the exercise as real as possible by tying the insights and outcomes to real life results and solutions."
   ]
  },
  {
   "cell_type": "code",
   "execution_count": 1,
   "metadata": {},
   "outputs": [],
   "source": [
    "# Importing the packages we will need for the A/B test\n",
    "import numpy as np\n",
    "import pandas as pd\n",
    "import scipy.stats as stats\n",
    "import statsmodels.stats.api as sms\n",
    "import matplotlib as mpl\n",
    "import matplotlib.pyplot as plt\n",
    "import seaborn as sns\n",
    "from math import ceil"
   ]
  },
  {
   "cell_type": "code",
   "execution_count": 2,
   "metadata": {},
   "outputs": [],
   "source": [
    "# Setting some of the visualisation defaults and the random seed so that the same data can be reproduced\n",
    "%matplotlib inline\n",
    "\n",
    "# Some plot styling preferences\n",
    "plt.style.use('seaborn-whitegrid')\n",
    "font = {\n",
    "        'weight' : 'bold',\n",
    "        'size'   : 14}\n",
    "\n",
    "mpl.rc('font', **font)\n",
    "\n",
    "np.random.seed(seed=6)"
   ]
  },
  {
   "cell_type": "markdown",
   "metadata": {},
   "source": [
    "## Contents:"
   ]
  },
  {
   "cell_type": "markdown",
   "metadata": {},
   "source": [
    "* Scenario\n",
    "* Calculating the required sample size"
   ]
  },
  {
   "cell_type": "markdown",
   "metadata": {},
   "source": [
    "## Scenario\n",
    "A video streaming company is trying to increase the click through rate on shows suggested by its personalized recommendation engine. The company has recently designed new artwork covers for some shows and the goal of conducting this A/B test is to establish if there is a statistically significant change in click through rate between the current and new artworks. "
   ]
  },
  {
   "cell_type": "markdown",
   "metadata": {},
   "source": [
    "The company's current click through rate for the show is 4% and they would like to see an increase of 2%. Using these values we can calculate the effect size of our test which indicates how meaningful the difference between our values is in the case that we find the difference to be statistically significant."
   ]
  },
  {
   "cell_type": "code",
   "execution_count": 3,
   "metadata": {},
   "outputs": [],
   "source": [
    "# I have taken 4% and 2% as a standard industry click through rate for a video and desired click through rate increase\n",
    "current_click_through_rate = 0.06\n",
    "desired_difference = 0.02\n",
    "desired_click_through_rate = current_click_through_rate + desired_difference"
   ]
  },
  {
   "cell_type": "markdown",
   "metadata": {},
   "source": [
    "## Calculating the required sample size"
   ]
  },
  {
   "cell_type": "markdown",
   "metadata": {},
   "source": [
    "To calculate the required sample size of users for our test we first calculate the effect size using the click through rates chosen earlier"
   ]
  },
  {
   "cell_type": "code",
   "execution_count": 4,
   "metadata": {},
   "outputs": [
    {
     "data": {
      "text/plain": [
       "'Our effect size is: 0.08'"
      ]
     },
     "execution_count": 4,
     "metadata": {},
     "output_type": "execute_result"
    }
   ],
   "source": [
    "# Calculating effect size based on our expected rates using Cohen's h test\n",
    "effect_size = sms.proportion_effectsize(desired_click_through_rate, current_click_through_rate) \n",
    "'Our effect size is: {:.2f}'.format(effect_size)"
   ]
  },
  {
   "cell_type": "markdown",
   "metadata": {},
   "source": [
    "The effect size was calculated using cohen's h test where an effect size of 0.2, 0.5 and 0.8 correspond to a small, medium and large effect respectively.\n",
    "\n",
    "Thus our effect size of 0.08 (to 2 sig. fig.) would be categorised as a small effect, however Cohen does \n",
    "acknowledge that his categorisations should be taken with a pinch of salt and woulddepend on the industry and context of \n",
    "the situation.\n",
    "\n",
    "If you are interested in finding out more about Cohen's h then I'd recommend the following links:\n",
    "\n",
    "https://people.ucalgary.ca/~ramsay/cohen-effect-size-h-arcsin-transformation.htm\n",
    "\n",
    "https://en.wikipedia.org/wiki/Cohen%27s_h"
   ]
  },
  {
   "cell_type": "markdown",
   "metadata": {},
   "source": [
    "Out of interest I thought I'd calculate the required values for our desired click through rate to give a small, medium and large significance according to cohen's h test. "
   ]
  },
  {
   "cell_type": "code",
   "execution_count": 5,
   "metadata": {},
   "outputs": [
    {
     "name": "stdout",
     "output_type": "stream",
     "text": [
      "Small: 0.11595205767112275\n",
      "Medium: 0.22772092978121017\n",
      "Large: 0.3638116803184712\n"
     ]
    }
   ],
   "source": [
    "# To calculate the conversion rates that would give small, medium and large effects according to cohen we use the below formula:\n",
    "cohen_h_boundaries = {'Small':0.2,'Medium':0.5,'Large':0.8}\n",
    "for p in cohen_h_boundaries.keys():\n",
    "    print(p + ': ' + str(np.sin((np.arcsin(current_click_through_rate**(1/2)) + cohen_h_boundaries[p]/2))**2))"
   ]
  },
  {
   "cell_type": "markdown",
   "metadata": {},
   "source": [
    "These values seem to large to suit click through rates for videos and so I am keen on exploring more suitable guidance systems for effect sizes in this area"
   ]
  },
  {
   "cell_type": "markdown",
   "metadata": {},
   "source": [
    "Now that we have the effect size for the change in our click through rates we will use it to calculate the number of samples of our population that we need so that if there is an effect from the website change we will have a high chance (80% based on the power choice below) to detect it as statistically significant."
   ]
  },
  {
   "cell_type": "code",
   "execution_count": 6,
   "metadata": {},
   "outputs": [
    {
     "name": "stdout",
     "output_type": "stream",
     "text": [
      "2543\n"
     ]
    }
   ],
   "source": [
    "required_n = sms.NormalIndPower().solve_power(\n",
    "    effect_size, \n",
    "    power=0.8, \n",
    "    alpha=0.05, \n",
    "    ratio=1\n",
    "    )                                                  # Calculating sample size needed\n",
    "\n",
    "required_n = ceil(required_n)                          # Rounding up to next whole number                          \n",
    "\n",
    "print(required_n)"
   ]
  },
  {
   "cell_type": "markdown",
   "metadata": {},
   "source": [
    "From this calculation we can see that we'll require 2543 users in each sample group of users in order to have a high chance of detecting a statistically significant change. There are many practical implications to the number of sample users required. For example if the chances of a certain event occurring are especially low or the website has very little traffic then it might take a long time to get enough data for adequate testing and so it may become unreasonable to test it in this way. Alternative methods could be using focus groups and surveys."
   ]
  },
  {
   "cell_type": "markdown",
   "metadata": {},
   "source": [
    "We will conduct a two sided hypothesis test on our data where the null hypothesis is that the mean click through rate of the control and test group are the same and the alternative hypothesis is that they are not. Our alpha value for the test is 0.05 meaning that when we calculate our p value at the end of the test we will accept the null hypothsis if p>=0.05 and reject it if p < 0.05"
   ]
  },
  {
   "cell_type": "markdown",
   "metadata": {},
   "source": [
    "Now we're gonna need some data. Let's generate some ourselves by creating two groups of users each of the size that we have calculated earlier. These groups will be our control and test groups where the control group will be using the current artwork for our video and the test group will be viewing the new one.\n",
    "\n",
    "We will use the Bernoulli distribution to model the chance of each user clicking on the specific video when it comes up as recommended where the chance is equal to either the control or test click through rate. "
   ]
  },
  {
   "cell_type": "code",
   "execution_count": 7,
   "metadata": {},
   "outputs": [],
   "source": [
    "sample_size = required_n\n",
    "control_click_through_rate = 0.06\n",
    "test_click_through_rate = 0.07"
   ]
  },
  {
   "cell_type": "code",
   "execution_count": 8,
   "metadata": {},
   "outputs": [],
   "source": [
    "def generate_data(sample_size, control_click_through_rate, test_click_through_rate, control_label='Control',\n",
    "                  test_label='Test'):\n",
    "    \"\"\"Returns a pandas dataframe with fake conversion rate data\n",
    "    Example:\n",
    "    Parameters:\n",
    "        sample_size (int): sample size for both control and test groups\n",
    "        control_conversion_rate (float): conversion rate of control group\n",
    "        test_conversion_rate (float): conversion rate of test group\n",
    "        control_label (str)\n",
    "        test_label (str)\n",
    "    Returns:\n",
    "        df (df)\n",
    "    \"\"\"\n",
    "\n",
    "    # initiate bernoulli distributions from which to randomly sample\n",
    "    control_bern = stats.bernoulli(control_click_through_rate)\n",
    "    test_bern = stats.bernoulli(test_click_through_rate)\n",
    "    \n",
    "    # Create Data Frame of control and test cases based on the required sample size\n",
    "    data = {'group':[control_label]*sample_size + [test_label]*sample_size}\n",
    "    df = pd.DataFrame(data,columns=['group'])\n",
    "    \n",
    "    # Assign converted or not converted binary value to each case\n",
    "    df['clicked'] = df['group'].apply(lambda x: control_bern.rvs() if x == control_label else test_bern.rvs())\n",
    "\n",
    "    return df"
   ]
  },
  {
   "cell_type": "code",
   "execution_count": 9,
   "metadata": {},
   "outputs": [],
   "source": [
    "ab_test = generate_data(sample_size, control_click_through_rate, test_click_through_rate, control_label='Control',\n",
    "                  test_label='Test')"
   ]
  },
  {
   "cell_type": "markdown",
   "metadata": {},
   "source": [
    "Below we have our simplified click through rate data. Here the 'group' column indicates whether the user was in the control or test group and the 'clicked' columns indicates whether the user clicked on the video or not, with a 1 representing a click."
   ]
  },
  {
   "cell_type": "code",
   "execution_count": 10,
   "metadata": {},
   "outputs": [
    {
     "data": {
      "text/html": [
       "<div>\n",
       "<style scoped>\n",
       "    .dataframe tbody tr th:only-of-type {\n",
       "        vertical-align: middle;\n",
       "    }\n",
       "\n",
       "    .dataframe tbody tr th {\n",
       "        vertical-align: top;\n",
       "    }\n",
       "\n",
       "    .dataframe thead th {\n",
       "        text-align: right;\n",
       "    }\n",
       "</style>\n",
       "<table border=\"1\" class=\"dataframe\">\n",
       "  <thead>\n",
       "    <tr style=\"text-align: right;\">\n",
       "      <th></th>\n",
       "      <th>group</th>\n",
       "      <th>clicked</th>\n",
       "    </tr>\n",
       "  </thead>\n",
       "  <tbody>\n",
       "    <tr>\n",
       "      <th>0</th>\n",
       "      <td>Control</td>\n",
       "      <td>0</td>\n",
       "    </tr>\n",
       "    <tr>\n",
       "      <th>1</th>\n",
       "      <td>Control</td>\n",
       "      <td>0</td>\n",
       "    </tr>\n",
       "    <tr>\n",
       "      <th>2</th>\n",
       "      <td>Control</td>\n",
       "      <td>0</td>\n",
       "    </tr>\n",
       "    <tr>\n",
       "      <th>3</th>\n",
       "      <td>Control</td>\n",
       "      <td>0</td>\n",
       "    </tr>\n",
       "    <tr>\n",
       "      <th>4</th>\n",
       "      <td>Control</td>\n",
       "      <td>0</td>\n",
       "    </tr>\n",
       "    <tr>\n",
       "      <th>...</th>\n",
       "      <td>...</td>\n",
       "      <td>...</td>\n",
       "    </tr>\n",
       "    <tr>\n",
       "      <th>5081</th>\n",
       "      <td>Test</td>\n",
       "      <td>0</td>\n",
       "    </tr>\n",
       "    <tr>\n",
       "      <th>5082</th>\n",
       "      <td>Test</td>\n",
       "      <td>0</td>\n",
       "    </tr>\n",
       "    <tr>\n",
       "      <th>5083</th>\n",
       "      <td>Test</td>\n",
       "      <td>0</td>\n",
       "    </tr>\n",
       "    <tr>\n",
       "      <th>5084</th>\n",
       "      <td>Test</td>\n",
       "      <td>1</td>\n",
       "    </tr>\n",
       "    <tr>\n",
       "      <th>5085</th>\n",
       "      <td>Test</td>\n",
       "      <td>0</td>\n",
       "    </tr>\n",
       "  </tbody>\n",
       "</table>\n",
       "<p>5086 rows × 2 columns</p>\n",
       "</div>"
      ],
      "text/plain": [
       "        group  clicked\n",
       "0     Control        0\n",
       "1     Control        0\n",
       "2     Control        0\n",
       "3     Control        0\n",
       "4     Control        0\n",
       "...       ...      ...\n",
       "5081     Test        0\n",
       "5082     Test        0\n",
       "5083     Test        0\n",
       "5084     Test        1\n",
       "5085     Test        0\n",
       "\n",
       "[5086 rows x 2 columns]"
      ]
     },
     "execution_count": 10,
     "metadata": {},
     "output_type": "execute_result"
    }
   ],
   "source": [
    "ab_test"
   ]
  },
  {
   "cell_type": "markdown",
   "metadata": {},
   "source": [
    "We will gain a preliminary understanding of our data through looking at various key aspects"
   ]
  },
  {
   "cell_type": "code",
   "execution_count": 11,
   "metadata": {},
   "outputs": [
    {
     "name": "stdout",
     "output_type": "stream",
     "text": [
      "<class 'pandas.core.frame.DataFrame'>\n",
      "RangeIndex: 5086 entries, 0 to 5085\n",
      "Data columns (total 2 columns):\n",
      " #   Column   Non-Null Count  Dtype \n",
      "---  ------   --------------  ----- \n",
      " 0   group    5086 non-null   object\n",
      " 1   clicked  5086 non-null   int64 \n",
      "dtypes: int64(1), object(1)\n",
      "memory usage: 79.6+ KB\n"
     ]
    }
   ],
   "source": [
    "ab_test.info()"
   ]
  },
  {
   "cell_type": "code",
   "execution_count": 12,
   "metadata": {},
   "outputs": [
    {
     "data": {
      "text/html": [
       "<div>\n",
       "<style scoped>\n",
       "    .dataframe tbody tr th:only-of-type {\n",
       "        vertical-align: middle;\n",
       "    }\n",
       "\n",
       "    .dataframe tbody tr th {\n",
       "        vertical-align: top;\n",
       "    }\n",
       "\n",
       "    .dataframe thead th {\n",
       "        text-align: right;\n",
       "    }\n",
       "</style>\n",
       "<table border=\"1\" class=\"dataframe\">\n",
       "  <thead>\n",
       "    <tr style=\"text-align: right;\">\n",
       "      <th></th>\n",
       "      <th>clicked</th>\n",
       "    </tr>\n",
       "  </thead>\n",
       "  <tbody>\n",
       "    <tr>\n",
       "      <th>count</th>\n",
       "      <td>5086.000000</td>\n",
       "    </tr>\n",
       "    <tr>\n",
       "      <th>mean</th>\n",
       "      <td>0.069799</td>\n",
       "    </tr>\n",
       "    <tr>\n",
       "      <th>std</th>\n",
       "      <td>0.254834</td>\n",
       "    </tr>\n",
       "    <tr>\n",
       "      <th>min</th>\n",
       "      <td>0.000000</td>\n",
       "    </tr>\n",
       "    <tr>\n",
       "      <th>25%</th>\n",
       "      <td>0.000000</td>\n",
       "    </tr>\n",
       "    <tr>\n",
       "      <th>50%</th>\n",
       "      <td>0.000000</td>\n",
       "    </tr>\n",
       "    <tr>\n",
       "      <th>75%</th>\n",
       "      <td>0.000000</td>\n",
       "    </tr>\n",
       "    <tr>\n",
       "      <th>max</th>\n",
       "      <td>1.000000</td>\n",
       "    </tr>\n",
       "  </tbody>\n",
       "</table>\n",
       "</div>"
      ],
      "text/plain": [
       "           clicked\n",
       "count  5086.000000\n",
       "mean      0.069799\n",
       "std       0.254834\n",
       "min       0.000000\n",
       "25%       0.000000\n",
       "50%       0.000000\n",
       "75%       0.000000\n",
       "max       1.000000"
      ]
     },
     "execution_count": 12,
     "metadata": {},
     "output_type": "execute_result"
    }
   ],
   "source": [
    "ab_test.describe()"
   ]
  },
  {
   "cell_type": "code",
   "execution_count": 13,
   "metadata": {},
   "outputs": [
    {
     "data": {
      "text/plain": [
       "Test       2543\n",
       "Control    2543\n",
       "Name: group, dtype: int64"
      ]
     },
     "execution_count": 13,
     "metadata": {},
     "output_type": "execute_result"
    }
   ],
   "source": [
    "# Checking to see we are getting the correct proportion of our control and test groups\n",
    "ab_test['group'].value_counts(ascending=False)"
   ]
  },
  {
   "cell_type": "code",
   "execution_count": 14,
   "metadata": {},
   "outputs": [
    {
     "data": {
      "text/plain": [
       "group    clicked\n",
       "Control  0          2390\n",
       "Test     0          2341\n",
       "         1           202\n",
       "Control  1           153\n",
       "dtype: int64"
      ]
     },
     "execution_count": 14,
     "metadata": {},
     "output_type": "execute_result"
    }
   ],
   "source": [
    "ab_test.value_counts(ascending=False)"
   ]
  },
  {
   "cell_type": "code",
   "execution_count": 15,
   "metadata": {},
   "outputs": [
    {
     "data": {
      "text/plain": [
       "group\n",
       "Control    0.060165\n",
       "Test       0.079434\n",
       "Name: clicked, dtype: float64"
      ]
     },
     "execution_count": 15,
     "metadata": {},
     "output_type": "execute_result"
    }
   ],
   "source": [
    "ab_test.groupby(['group'])['clicked'].mean()"
   ]
  },
  {
   "cell_type": "code",
   "execution_count": 16,
   "metadata": {},
   "outputs": [],
   "source": [
    "std_p = lambda x: np.std(x, ddof=0)              # Std. deviation of the proportion\n",
    "se_p = lambda x: stats.sem(x, ddof=0)            # Std. error of the proportion (std / sqrt(n))"
   ]
  },
  {
   "cell_type": "code",
   "execution_count": 17,
   "metadata": {},
   "outputs": [],
   "source": [
    "click_through_rates = ab_test.groupby('group')['clicked'].agg([len,np.sum,np.mean, std_p, se_p])\n",
    "click_through_rates.columns = ['num_users','num_clicks','click_through_rate', 'std_deviation', 'std_error']\n",
    "click_through_rates = click_through_rates.reset_index()"
   ]
  },
  {
   "cell_type": "code",
   "execution_count": 18,
   "metadata": {},
   "outputs": [
    {
     "data": {
      "text/html": [
       "<div>\n",
       "<style scoped>\n",
       "    .dataframe tbody tr th:only-of-type {\n",
       "        vertical-align: middle;\n",
       "    }\n",
       "\n",
       "    .dataframe tbody tr th {\n",
       "        vertical-align: top;\n",
       "    }\n",
       "\n",
       "    .dataframe thead th {\n",
       "        text-align: right;\n",
       "    }\n",
       "</style>\n",
       "<table border=\"1\" class=\"dataframe\">\n",
       "  <thead>\n",
       "    <tr style=\"text-align: right;\">\n",
       "      <th></th>\n",
       "      <th>group</th>\n",
       "      <th>num_users</th>\n",
       "      <th>num_clicks</th>\n",
       "      <th>click_through_rate</th>\n",
       "      <th>std_deviation</th>\n",
       "      <th>std_error</th>\n",
       "    </tr>\n",
       "  </thead>\n",
       "  <tbody>\n",
       "    <tr>\n",
       "      <th>0</th>\n",
       "      <td>Control</td>\n",
       "      <td>2543</td>\n",
       "      <td>153</td>\n",
       "      <td>0.060165</td>\n",
       "      <td>0.237793</td>\n",
       "      <td>0.004715</td>\n",
       "    </tr>\n",
       "    <tr>\n",
       "      <th>1</th>\n",
       "      <td>Test</td>\n",
       "      <td>2543</td>\n",
       "      <td>202</td>\n",
       "      <td>0.079434</td>\n",
       "      <td>0.270415</td>\n",
       "      <td>0.005362</td>\n",
       "    </tr>\n",
       "  </tbody>\n",
       "</table>\n",
       "</div>"
      ],
      "text/plain": [
       "     group  num_users  num_clicks  click_through_rate  std_deviation  \\\n",
       "0  Control       2543         153            0.060165       0.237793   \n",
       "1     Test       2543         202            0.079434       0.270415   \n",
       "\n",
       "   std_error  \n",
       "0   0.004715  \n",
       "1   0.005362  "
      ]
     },
     "execution_count": 18,
     "metadata": {},
     "output_type": "execute_result"
    }
   ],
   "source": [
    "click_through_rates"
   ]
  },
  {
   "cell_type": "markdown",
   "metadata": {},
   "source": [
    "It seems that the difference of the click through rate between the two groups is close to the 2% that we expected which is a good sign that the new artwork is producing the desired increase. However it is still too early to be fully sure to commit to replacing the visual. We now have to carry out the hypothesis test to see if this increase is statistically significant."
   ]
  },
  {
   "cell_type": "markdown",
   "metadata": {},
   "source": [
    "First let us look at our data graphically in order to better understand it"
   ]
  },
  {
   "cell_type": "code",
   "execution_count": 19,
   "metadata": {},
   "outputs": [
    {
     "data": {
      "image/png": "[encoded data removed]",
      "text/plain": [
       "<Figure size 576x432 with 1 Axes>"
      ]
     },
     "metadata": {},
     "output_type": "display_data"
    }
   ],
   "source": [
    "plt.figure(figsize=(8,6))\n",
    "\n",
    "sns.barplot(x=ab_test['group'], y=ab_test['clicked'], ci=False)\n",
    "\n",
    "plt.ylim(0, 0.17)\n",
    "plt.title('Click through rate by group', pad=20)\n",
    "plt.xlabel('Group', labelpad=15)\n",
    "plt.ylabel('Clicked (proportion)', labelpad=15);"
   ]
  },
  {
   "cell_type": "markdown",
   "metadata": {},
   "source": [
    "Let us plot the outputted distribution of the number of clicks of our two groups. We can model these distributions by the binomial distribution since the clicks have been produced as the outcome of a series of independent bernoulli trials."
   ]
  },
  {
   "cell_type": "code",
   "execution_count": 20,
   "metadata": {},
   "outputs": [],
   "source": [
    "control_click_count = int(click_through_rates[click_through_rates.group=='Control'].num_clicks)\n",
    "test_click_count = int(click_through_rates[click_through_rates.group=='Test'].num_clicks)\n",
    "control_click_rate = float(click_through_rates[click_through_rates.group=='Control'].click_through_rate)\n",
    "test_click_rate = float(click_through_rates[click_through_rates.group=='Test'].click_through_rate)"
   ]
  },
  {
   "cell_type": "markdown",
   "metadata": {},
   "source": [
    "Below we have the distribution of the number of clicks for our control group given the control click rate and the sample size. From the graph you can see that it is most likely for the number of click of the control group to come out between 120 and 190 clicks. The vertical blue line represents the number of clicks from the test group which is above 200 and so very unlikely to have come from the control group's distribution, but still not impossible."
   ]
  },
  {
   "cell_type": "code",
   "execution_count": 21,
   "metadata": {},
   "outputs": [
    {
     "data": {
      "text/plain": [
       "Text(0, 0.5, 'Probability')"
      ]
     },
     "execution_count": 21,
     "metadata": {},
     "output_type": "execute_result"
    },
    {
     "data": {
      "image/png": "[encoded data removed]",
      "text/plain": [
       "<Figure size 864x432 with 1 Axes>"
      ]
     },
     "metadata": {},
     "output_type": "display_data"
    }
   ],
   "source": [
    "fig, ax = plt.subplots(figsize=(12,6))\n",
    "x_control = np.linspace(control_click_count-49, control_click_count+50, 100)\n",
    "y_control = stats.binom.pmf(x_control,required_n,control_click_rate)\n",
    "ax.bar(x_control, y_control, alpha=0.5)\n",
    "ax.axvline(x=test_click_rate * required_n, c='blue', alpha=0.75, linestyle='--')\n",
    "plt.xlabel('Number Clicked')\n",
    "plt.ylabel('Probability')"
   ]
  },
  {
   "cell_type": "markdown",
   "metadata": {},
   "source": [
    "In the graph below we plot the distributions of both groups with the control group on the left and the test group on the right. We can see that whilst there is some overlap between the distributions they have a fairly distinct range of likely points."
   ]
  },
  {
   "cell_type": "code",
   "execution_count": 22,
   "metadata": {},
   "outputs": [
    {
     "data": {
      "text/plain": [
       "Text(0, 0.5, 'Probability')"
      ]
     },
     "execution_count": 22,
     "metadata": {},
     "output_type": "execute_result"
    },
    {
     "data": {
      "image/png": "[encoded data removed]",
      "text/plain": [
       "<Figure size 864x432 with 1 Axes>"
      ]
     },
     "metadata": {},
     "output_type": "display_data"
    }
   ],
   "source": [
    "fig, ax = plt.subplots(figsize=(12,6))\n",
    "x_control = np.linspace(control_click_count-49, control_click_count+50, 100)\n",
    "y_control = stats.binom.pmf(x_control,required_n,control_click_rate)\n",
    "ax.bar(x_control, y_control, alpha=0.5)\n",
    "x_test = np.linspace(test_click_count-49, test_click_count+50, 100)\n",
    "y_test = stats.binom.pmf(x_test,required_n,test_click_rate)\n",
    "ax.bar(x_test, y_test, alpha=0.5)\n",
    "plt.xlabel('Number Clicked')\n",
    "plt.ylabel('Probability')"
   ]
  },
  {
   "cell_type": "markdown",
   "metadata": {},
   "source": [
    "From these graphs we can see that it is unlikely that our two distributions for the number of clicks have the same mean, but to investigate this formally we will have to look at and standardize our click through rates.To do this we will use the central limit theorem to approximate these distributions by the normal distribution. Since our click through rates were distributed by the bernoulli distribution we can calculate its mean and standard deviation to be used for the approximated normal distribtion."
   ]
  },
  {
   "cell_type": "markdown",
   "metadata": {},
   "source": [
    "In the graph below we plot the normal distributions obtained from the central limit theorem for each group. The vertical dashed line represents the mean click through rate for each group"
   ]
  },
  {
   "cell_type": "code",
   "execution_count": 23,
   "metadata": {},
   "outputs": [
    {
     "data": {
      "text/plain": [
       "Text(0, 0.5, 'PDF')"
      ]
     },
     "execution_count": 23,
     "metadata": {},
     "output_type": "execute_result"
    },
    {
     "data": {
      "image/png": "[encoded data removed]",
      "text/plain": [
       "<Figure size 864x432 with 1 Axes>"
      ]
     },
     "metadata": {},
     "output_type": "display_data"
    }
   ],
   "source": [
    "# standard error of the mean for both groups\n",
    "SE_A = np.sqrt(control_click_rate * (1-control_click_rate)) / np.sqrt(required_n)\n",
    "SE_B = np.sqrt(test_click_rate * (1-test_click_rate)) / np.sqrt(required_n)\n",
    "# plot the null and alternative hypothesis\n",
    "fig, ax = plt.subplots(figsize=(12,6))\n",
    "xA = np.linspace(0, 0.2, 1000)\n",
    "yA = stats.norm(control_click_rate, SE_A).pdf(xA)\n",
    "ax.plot(xA, yA)\n",
    "ax.axvline(x=control_click_rate, c='red', alpha=0.5, linestyle='--')\n",
    "yB = stats.norm(test_click_rate, SE_B).pdf(xA)\n",
    "ax.plot(xA, yB)\n",
    "ax.axvline(x=test_click_rate, c='blue', alpha=0.5, linestyle='--')\n",
    "plt.xlabel('Click Through Rate')\n",
    "plt.ylabel('PDF')"
   ]
  },
  {
   "cell_type": "markdown",
   "metadata": {},
   "source": [
    "Now for our null hypothesis we assume that the difference between the means of the two distributions is zero. Thus when we subtract the two normal distributions from each other we get a normal distribution with mean 0 and standard deviation being the square root of the sum of the variances."
   ]
  },
  {
   "cell_type": "code",
   "execution_count": 24,
   "metadata": {},
   "outputs": [
    {
     "data": {
      "text/plain": [
       "Text(0, 0.5, 'PDF')"
      ]
     },
     "execution_count": 24,
     "metadata": {},
     "output_type": "execute_result"
    },
    {
     "data": {
      "image/png": "[encoded data removed]",
      "text/plain": [
       "<Figure size 864x432 with 1 Axes>"
      ]
     },
     "metadata": {},
     "output_type": "display_data"
    }
   ],
   "source": [
    "# standard error of the mean for both groups\n",
    "SE = np.sqrt((control_click_rate * (1-control_click_rate))/required_n + (test_click_rate * (1-test_click_rate))/required_n)\n",
    "# plot the null and alternative hypothesis\n",
    "fig, ax = plt.subplots(figsize=(12,6))\n",
    "x = np.linspace(-0.2, 0.2, 1000)\n",
    "y = stats.norm(0, SE).pdf(x)\n",
    "ax.plot(x, y)\n",
    "ax.axvline(x=stats.norm.interval(alpha=0.95, loc=0, scale=SE)[1], c='blue', alpha=0.5, linestyle='--')\n",
    "ax.axvline(x=stats.norm.interval(alpha=0.95, loc=0, scale=SE)[0], c='blue', alpha=0.5, linestyle='--')\n",
    "ax.axvline(x=test_click_rate-control_click_rate, c='red', alpha=0.5, linestyle='--')\n",
    "ax.fill_between(x[x > stats.norm.interval(alpha=0.95, loc=0, scale=SE)[1]], np.zeros(sum(x > stats.norm.interval(alpha=0.95, loc=0, scale=SE)[1])), y[x > stats.norm.interval(alpha=0.95, loc=0, scale=SE)[1]], color='green', alpha=0.5)\n",
    "ax.fill_between(x[x < stats.norm.interval(alpha=0.95, loc=0, scale=SE)[0]], np.zeros(sum(x < stats.norm.interval(alpha=0.95, loc=0, scale=SE)[0])), y[x < stats.norm.interval(alpha=0.95, loc=0, scale=SE)[0]], color='green', alpha=0.5)\n",
    "plt.xlabel('Click Through Rate Difference')\n",
    "plt.ylabel('PDF')"
   ]
  },
  {
   "cell_type": "markdown",
   "metadata": {},
   "source": [
    "The shaded area above represents the significance level of the test alpha which is the probability of a false positive (accepting the alternative hypothesis incorrectly). In this case we are carrying out a two sided test to take into account unwanted adverse affects of decreasing the click through rate."
   ]
  },
  {
   "cell_type": "markdown",
   "metadata": {},
   "source": [
    "The red line above shows the value for the difference between the two click through rates from our data. Thus we will use the normal distribution with mean 0 calculated from our null hypothesis to test whether this difference was likely given that we assume that the mean difference is zero. Thus this will tell us whether this assumption was a good assumption to make. Visually you can see that the red line is outside of the bounds of the two blue lines showing the end regions of the test and so we can reject our null hypothesis that the difference between the means is not zero."
   ]
  },
  {
   "cell_type": "markdown",
   "metadata": {},
   "source": [
    "An alternative way to see this is by calculating the p value for the test as below and comparing it to 0.025 (as our alpha value is 0.05 and we are conducying a two way test)"
   ]
  },
  {
   "cell_type": "code",
   "execution_count": 25,
   "metadata": {},
   "outputs": [
    {
     "data": {
      "text/plain": [
       "0.0034838178142840848"
      ]
     },
     "execution_count": 25,
     "metadata": {},
     "output_type": "execute_result"
    }
   ],
   "source": [
    "1-stats.norm(0, SE).cdf(test_click_rate - control_click_rate)"
   ]
  },
  {
   "cell_type": "markdown",
   "metadata": {},
   "source": [
    "Our p-value is less than 0.025 and so the difference of the two groups' means was statistically significant and we can reject the null hypothesis that the two means are equal. This means that the company is confident that their new visual for the show produces a higher click through rate than the old one and they can start rolling it out."
   ]
  }
 ],
 "metadata": {
  "kernelspec": {
   "display_name": "Python 3",
   "language": "python",
   "name": "python3"
  },
  "language_info": {
   "codemirror_mode": {
    "name": "ipython",
    "version": 3
   },
   "file_extension": ".py",
   "mimetype": "text/x-python",
   "name": "python",
   "nbconvert_exporter": "python",
   "pygments_lexer": "ipython3",
   "version": "3.8.5"
  }
 },
 "nbformat": 4,
 "nbformat_minor": 4
}
